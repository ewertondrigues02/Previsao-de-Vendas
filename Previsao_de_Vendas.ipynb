{
  "nbformat": 4,
  "nbformat_minor": 0,
  "metadata": {
    "colab": {
      "provenance": []
    },
    "kernelspec": {
      "name": "python3",
      "display_name": "Python 3"
    },
    "language_info": {
      "name": "python"
    }
  },
  "cells": [
    {
      "cell_type": "markdown",
      "source": [
        "# Ciência de Dados para Previsão de Vendas com Campanhas Publicitárias"
      ],
      "metadata": {
        "id": "KjeFvQlfwnG-"
      }
    },
    {
      "cell_type": "code",
      "execution_count": null,
      "metadata": {
        "id": "h3vx8DJovuDe"
      },
      "outputs": [],
      "source": []
    }
  ]
}